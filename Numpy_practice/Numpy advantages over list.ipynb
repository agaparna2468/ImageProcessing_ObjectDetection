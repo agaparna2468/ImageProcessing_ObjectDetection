{
 "cells": [
  {
   "cell_type": "code",
   "execution_count": 4,
   "id": "437efddc",
   "metadata": {},
   "outputs": [],
   "source": [
    "import numpy as np\n",
    "import time\n",
    "import sys"
   ]
  },
  {
   "cell_type": "code",
   "execution_count": 16,
   "id": "e32b6115",
   "metadata": {},
   "outputs": [
    {
     "name": "stdout",
     "output_type": "stream",
     "text": [
      "8856\n"
     ]
    }
   ],
   "source": [
    "c = range(1000)\n",
    "lst = []\n",
    "for n in c:\n",
    "    lst.append(n)\n",
    "print(sys.getsizeof(lst))\n",
    "#print(lst)\n",
    "#print(b.itemsize)"
   ]
  },
  {
   "cell_type": "code",
   "execution_count": 17,
   "id": "ebdd5b44",
   "metadata": {},
   "outputs": [
    {
     "name": "stdout",
     "output_type": "stream",
     "text": [
      "4000\n",
      "<class 'numpy.ndarray'>\n"
     ]
    }
   ],
   "source": [
    "a = np.arange(1000)\n",
    "#print(sys.getsizeof(a))\n",
    "print(a.size*a.itemsize)\n",
    "print(type(a))"
   ]
  },
  {
   "cell_type": "code",
   "execution_count": 20,
   "id": "7e432382",
   "metadata": {},
   "outputs": [
    {
     "name": "stdout",
     "output_type": "stream",
     "text": [
      "python list takes: 7.241487503051758\n",
      "python array takes: 0.25844573974609375\n"
     ]
    }
   ],
   "source": [
    "size = 100000\n",
    "L1=[]\n",
    "L2 = []\n",
    "d = range(size)\n",
    "\n",
    "for x in d:\n",
    "    L1.append(x)\n",
    "    L2.append(x)\n",
    "    \n",
    "A1 = np.arange(1000)\n",
    "A2 = np.arange(1000)\n",
    "start = time.time()\n",
    "resolve = [(x+y) for x,y in zip(L1,L2)]\n",
    "\n",
    "print(\"python list takes: \" + str((time.time() - start)*1000))\n",
    "\n",
    "start = time.time()\n",
    "result = A1+A2\n",
    "\n",
    "print(\"python array takes: \" + str((time.time() - start)*1000))\n",
    "\n"
   ]
  },
  {
   "cell_type": "code",
   "execution_count": null,
   "id": "f89dc176",
   "metadata": {},
   "outputs": [],
   "source": []
  }
 ],
 "metadata": {
  "kernelspec": {
   "display_name": "Python 3 (ipykernel)",
   "language": "python",
   "name": "python3"
  },
  "language_info": {
   "codemirror_mode": {
    "name": "ipython",
    "version": 3
   },
   "file_extension": ".py",
   "mimetype": "text/x-python",
   "name": "python",
   "nbconvert_exporter": "python",
   "pygments_lexer": "ipython3",
   "version": "3.10.9"
  }
 },
 "nbformat": 4,
 "nbformat_minor": 5
}
